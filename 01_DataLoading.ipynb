{
 "cells": [
  {
   "cell_type": "markdown",
   "metadata": {
    "colab_type": "text",
    "id": "view-in-github"
   },
   "source": [
    "<a href=\"https://colab.research.google.com/github/mneedham/data-science-training/blob/master/01_DataLoading.ipynb\" target=\"_parent\"><img src=\"https://colab.research.google.com/assets/colab-badge.svg\" alt=\"Open In Colab\"/></a>"
   ]
  },
  {
   "cell_type": "markdown",
   "metadata": {},
   "source": [
    "# Citation Dataset Loading\n",
    "\n",
    "In this notebook we're going to load the citation dataset into Neo4j.\n",
    "\n",
    "First let's import a couple of Python libraries that will help us with this process."
   ]
  },
  {
   "cell_type": "code",
   "execution_count": 1,
   "metadata": {},
   "outputs": [
    {
     "name": "stdout",
     "output_type": "stream",
     "text": [
      "Requirement already satisfied: py2neo in ./a/lib/python3.6/site-packages\n",
      "Requirement already satisfied: pandas in ./a/lib/python3.6/site-packages\n",
      "Requirement already satisfied: click>=7.0 in ./a/lib/python3.6/site-packages (from py2neo)\n",
      "Requirement already satisfied: colorama in ./a/lib/python3.6/site-packages (from py2neo)\n",
      "Requirement already satisfied: neobolt<1.8,>=1.7.3 in ./a/lib/python3.6/site-packages (from py2neo)\n",
      "Requirement already satisfied: neotime<1.8,>=1.7.4 in ./a/lib/python3.6/site-packages (from py2neo)\n",
      "Requirement already satisfied: prompt_toolkit<2.1,>=2.0.7 in ./a/lib/python3.6/site-packages (from py2neo)\n",
      "Requirement already satisfied: pygments<2.4,>=2.3.0 in ./a/lib/python3.6/site-packages (from py2neo)\n",
      "Requirement already satisfied: pytz in ./a/lib/python3.6/site-packages (from py2neo)\n",
      "Requirement already satisfied: urllib3[secure]<1.25,>=1.23 in ./a/lib/python3.6/site-packages (from py2neo)\n",
      "Requirement already satisfied: numpy>=1.12.0 in ./a/lib/python3.6/site-packages (from pandas)\n",
      "Requirement already satisfied: python-dateutil>=2.5.0 in ./a/lib/python3.6/site-packages (from pandas)\n",
      "Requirement already satisfied: six in ./a/lib/python3.6/site-packages (from neotime<1.8,>=1.7.4->py2neo)\n",
      "Requirement already satisfied: wcwidth in ./a/lib/python3.6/site-packages (from prompt_toolkit<2.1,>=2.0.7->py2neo)\n",
      "Requirement already satisfied: idna>=2.0.0; extra == \"secure\" in ./a/lib/python3.6/site-packages (from urllib3[secure]<1.25,>=1.23->py2neo)\n",
      "Requirement already satisfied: pyOpenSSL>=0.14; extra == \"secure\" in ./a/lib/python3.6/site-packages (from urllib3[secure]<1.25,>=1.23->py2neo)\n",
      "Requirement already satisfied: ipaddress; extra == \"secure\" in ./a/lib/python3.6/site-packages (from urllib3[secure]<1.25,>=1.23->py2neo)\n",
      "Requirement already satisfied: cryptography>=1.3.4; extra == \"secure\" in ./a/lib/python3.6/site-packages (from urllib3[secure]<1.25,>=1.23->py2neo)\n",
      "Requirement already satisfied: certifi; extra == \"secure\" in ./a/lib/python3.6/site-packages (from urllib3[secure]<1.25,>=1.23->py2neo)\n",
      "Requirement already satisfied: cffi!=1.11.3,>=1.8 in ./a/lib/python3.6/site-packages (from cryptography>=1.3.4; extra == \"secure\"->urllib3[secure]<1.25,>=1.23->py2neo)\n",
      "Requirement already satisfied: asn1crypto>=0.21.0 in ./a/lib/python3.6/site-packages (from cryptography>=1.3.4; extra == \"secure\"->urllib3[secure]<1.25,>=1.23->py2neo)\n",
      "Requirement already satisfied: pycparser in ./a/lib/python3.6/site-packages (from cffi!=1.11.3,>=1.8->cryptography>=1.3.4; extra == \"secure\"->urllib3[secure]<1.25,>=1.23->py2neo)\n"
     ]
    }
   ],
   "source": [
    "!pip install py2neo pandas"
   ]
  },
  {
   "cell_type": "markdown",
   "metadata": {},
   "source": [
    "We'll start by importing py2neo library which we'll use to import the data into Neo4j. py2neo is a client library and toolkit for working with Neo4j from within Python applications. It is well suited for Data Science workflows and has great integration with other Python Data Science tools."
   ]
  },
  {
   "cell_type": "code",
   "execution_count": 10,
   "metadata": {},
   "outputs": [],
   "source": [
    "from py2neo import Graph"
   ]
  },
  {
   "cell_type": "markdown",
   "metadata": {},
   "source": [
    "Create a [Neo4j 3.4 Sandbox](https://neo4j.com/sandbox-v2/) and paste the credentials into the cell below.\n",
    "\n",
    "\n",
    "<div align=\"left\">\n",
    "    <img src=\"images/sandbox.png\" alt=\"Neo4j 3.4 Sandbox\"/>\n",
    "</div>\n"
   ]
  },
  {
   "cell_type": "code",
   "execution_count": 11,
   "metadata": {},
   "outputs": [],
   "source": [
    "# Change the line of code below to use the IP Address, Bolt Port, and Password of your Sandbox.\n",
    "# graph = Graph(\"bolt://<IP Address>:<Bolt Port>\", auth=(\"neo4j\", \"<Password>\")) \n",
    "\n",
    "# graph = Graph(\"bolt://18.234.168.45:33679\", auth=(\"neo4j\", \"daybreak-cosal-rumbles\")) \n",
    "graph = Graph(\"bolt://localhost\", auth=(\"neo4j\", \"neo\")) "
   ]
  },
  {
   "cell_type": "markdown",
   "metadata": {},
   "source": [
    "## Create Constraints\n",
    "\n",
    "First let's create some constraints to make sure we don't import duplicate data:"
   ]
  },
  {
   "cell_type": "code",
   "execution_count": 12,
   "metadata": {},
   "outputs": [
    {
     "data": {
      "text/plain": [
       "constraints_added: 1\n",
       "constraints_removed: 0\n",
       "contains_updates: True\n",
       "indexes_added: 0\n",
       "indexes_removed: 0\n",
       "labels_added: 0\n",
       "labels_removed: 0\n",
       "nodes_created: 0\n",
       "nodes_deleted: 0\n",
       "properties_set: 0\n",
       "relationships_created: 0\n",
       "relationships_deleted: 0"
      ]
     },
     "metadata": {},
     "output_type": "display_data"
    },
    {
     "data": {
      "text/plain": [
       "constraints_added: 1\n",
       "constraints_removed: 0\n",
       "contains_updates: True\n",
       "indexes_added: 0\n",
       "indexes_removed: 0\n",
       "labels_added: 0\n",
       "labels_removed: 0\n",
       "nodes_created: 0\n",
       "nodes_deleted: 0\n",
       "properties_set: 0\n",
       "relationships_created: 0\n",
       "relationships_deleted: 0"
      ]
     },
     "metadata": {},
     "output_type": "display_data"
    },
    {
     "data": {
      "text/plain": [
       "constraints_added: 1\n",
       "constraints_removed: 0\n",
       "contains_updates: True\n",
       "indexes_added: 0\n",
       "indexes_removed: 0\n",
       "labels_added: 0\n",
       "labels_removed: 0\n",
       "nodes_created: 0\n",
       "nodes_deleted: 0\n",
       "properties_set: 0\n",
       "relationships_created: 0\n",
       "relationships_deleted: 0"
      ]
     },
     "metadata": {},
     "output_type": "display_data"
    }
   ],
   "source": [
    "display(graph.run(\"CREATE CONSTRAINT ON (a:Article) ASSERT a.index IS UNIQUE\").stats())\n",
    "display(graph.run(\"CREATE CONSTRAINT ON (a:Author) ASSERT a.name IS UNIQUE\").stats())\n",
    "display(graph.run(\"CREATE CONSTRAINT ON (v:Venue) ASSERT v.name IS UNIQUE\").stats())"
   ]
  },
  {
   "cell_type": "markdown",
   "metadata": {},
   "source": [
    "## Loading the data\n",
    "\n",
    "Now let's load the data into the database. We'll create nodes for Articles, Venues, and Authors.\n"
   ]
  },
  {
   "cell_type": "code",
   "execution_count": 13,
   "metadata": {},
   "outputs": [
    {
     "data": {
      "text/html": [
       "<div>\n",
       "<style scoped>\n",
       "    .dataframe tbody tr th:only-of-type {\n",
       "        vertical-align: middle;\n",
       "    }\n",
       "\n",
       "    .dataframe tbody tr th {\n",
       "        vertical-align: top;\n",
       "    }\n",
       "\n",
       "    .dataframe thead th {\n",
       "        text-align: right;\n",
       "    }\n",
       "</style>\n",
       "<table border=\"1\" class=\"dataframe\">\n",
       "  <thead>\n",
       "    <tr style=\"text-align: right;\">\n",
       "      <th></th>\n",
       "      <th>batch</th>\n",
       "      <th>batches</th>\n",
       "      <th>committedOperations</th>\n",
       "      <th>errorMessages</th>\n",
       "      <th>failedBatches</th>\n",
       "      <th>failedOperations</th>\n",
       "      <th>operations</th>\n",
       "      <th>retries</th>\n",
       "      <th>timeTaken</th>\n",
       "      <th>total</th>\n",
       "      <th>wasTerminated</th>\n",
       "    </tr>\n",
       "  </thead>\n",
       "  <tbody>\n",
       "    <tr>\n",
       "      <th>0</th>\n",
       "      <td>{'total': 52, 'committed': 52, 'failed': 0, 'e...</td>\n",
       "      <td>52</td>\n",
       "      <td>51956</td>\n",
       "      <td>{}</td>\n",
       "      <td>0</td>\n",
       "      <td>0</td>\n",
       "      <td>{'total': 51956, 'committed': 51956, 'failed':...</td>\n",
       "      <td>0</td>\n",
       "      <td>24</td>\n",
       "      <td>51956</td>\n",
       "      <td>False</td>\n",
       "    </tr>\n",
       "  </tbody>\n",
       "</table>\n",
       "</div>"
      ],
      "text/plain": [
       "                                               batch  batches  \\\n",
       "0  {'total': 52, 'committed': 52, 'failed': 0, 'e...       52   \n",
       "\n",
       "   committedOperations errorMessages  failedBatches  failedOperations  \\\n",
       "0                51956            {}              0                 0   \n",
       "\n",
       "                                          operations  retries  timeTaken  \\\n",
       "0  {'total': 51956, 'committed': 51956, 'failed':...        0         24   \n",
       "\n",
       "   total  wasTerminated  \n",
       "0  51956          False  "
      ]
     },
     "execution_count": 13,
     "metadata": {},
     "output_type": "execute_result"
    }
   ],
   "source": [
    "query = \"\"\"\n",
    "CALL apoc.periodic.iterate(\n",
    "  'UNWIND [\"dblp-ref-0.json\", \"dblp-ref-1.json\", \"dblp-ref-2.json\", \"dblp-ref-3.json\"] AS file\n",
    "   CALL apoc.load.json(\"https://github.com/mneedham/link-prediction/raw/master/data/\" + file)\n",
    "   YIELD value WITH value\n",
    "   return value',\n",
    "  'MERGE (a:Article {index:value.id})\n",
    "   SET a += apoc.map.clean(value,[\"id\",\"authors\",\"references\", \"venue\"],[0])\n",
    "   WITH a, value.authors as authors, value.references AS citations, value.venue AS venue\n",
    "   MERGE (v:Venue {name: venue})\n",
    "   MERGE (a)-[:VENUE]->(v)\n",
    "   FOREACH(author in authors | \n",
    "     MERGE (b:Author{name:author})\n",
    "     MERGE (a)-[:AUTHOR]->(b))\n",
    "   FOREACH(citation in citations | \n",
    "     MERGE (cited:Article {index:citation})\n",
    "     MERGE (a)-[:CITED]->(cited))', \n",
    "   {batchSize: 1000, iterateList: true});\n",
    "\"\"\"\n",
    "graph.run(query).to_data_frame()"
   ]
  },
  {
   "cell_type": "code",
   "execution_count": 17,
   "metadata": {},
   "outputs": [
    {
     "data": {
      "text/plain": [
       "constraints_added: 0\n",
       "constraints_removed: 0\n",
       "contains_updates: False\n",
       "indexes_added: 0\n",
       "indexes_removed: 0\n",
       "labels_added: 0\n",
       "labels_removed: 0\n",
       "nodes_created: 0\n",
       "nodes_deleted: 0\n",
       "properties_set: 0\n",
       "relationships_created: 0\n",
       "relationships_deleted: 0"
      ]
     },
     "execution_count": 17,
     "metadata": {},
     "output_type": "execute_result"
    }
   ],
   "source": [
    "query = \"\"\"\n",
    "MATCH (a:Article) WHERE not(exists(a.title))\n",
    "DETACH DELETE a\n",
    "\"\"\"\n",
    "graph.run(query).stats()"
   ]
  },
  {
   "cell_type": "markdown",
   "metadata": {},
   "source": [
    "In the next notebook we'll explore the data that we've imported. "
   ]
  }
 ],
 "metadata": {
  "kernelspec": {
   "display_name": "Python 3",
   "language": "python",
   "name": "python3"
  },
  "language_info": {
   "codemirror_mode": {
    "name": "ipython",
    "version": 3
   },
   "file_extension": ".py",
   "mimetype": "text/x-python",
   "name": "python",
   "nbconvert_exporter": "python",
   "pygments_lexer": "ipython3",
   "version": "3.6.7"
  }
 },
 "nbformat": 4,
 "nbformat_minor": 2
}
